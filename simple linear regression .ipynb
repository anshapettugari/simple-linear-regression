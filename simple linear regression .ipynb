{
 "cells": [
  {
   "cell_type": "code",
   "execution_count": 23,
   "id": "fc7a1ed9",
   "metadata": {
    "ExecuteTime": {
     "end_time": "2021-09-28T10:35:05.311064Z",
     "start_time": "2021-09-28T10:35:05.281064Z"
    }
   },
   "outputs": [
    {
     "data": {
      "text/html": [
       "<div>\n",
       "<style scoped>\n",
       "    .dataframe tbody tr th:only-of-type {\n",
       "        vertical-align: middle;\n",
       "    }\n",
       "\n",
       "    .dataframe tbody tr th {\n",
       "        vertical-align: top;\n",
       "    }\n",
       "\n",
       "    .dataframe thead th {\n",
       "        text-align: right;\n",
       "    }\n",
       "</style>\n",
       "<table border=\"1\" class=\"dataframe\">\n",
       "  <thead>\n",
       "    <tr style=\"text-align: right;\">\n",
       "      <th></th>\n",
       "      <th>DeliveryTime</th>\n",
       "      <th>SortingTime</th>\n",
       "    </tr>\n",
       "  </thead>\n",
       "  <tbody>\n",
       "    <tr>\n",
       "      <th>0</th>\n",
       "      <td>21.00</td>\n",
       "      <td>10</td>\n",
       "    </tr>\n",
       "    <tr>\n",
       "      <th>1</th>\n",
       "      <td>13.50</td>\n",
       "      <td>4</td>\n",
       "    </tr>\n",
       "    <tr>\n",
       "      <th>2</th>\n",
       "      <td>19.75</td>\n",
       "      <td>6</td>\n",
       "    </tr>\n",
       "    <tr>\n",
       "      <th>3</th>\n",
       "      <td>24.00</td>\n",
       "      <td>9</td>\n",
       "    </tr>\n",
       "    <tr>\n",
       "      <th>4</th>\n",
       "      <td>29.00</td>\n",
       "      <td>10</td>\n",
       "    </tr>\n",
       "    <tr>\n",
       "      <th>5</th>\n",
       "      <td>15.35</td>\n",
       "      <td>6</td>\n",
       "    </tr>\n",
       "    <tr>\n",
       "      <th>6</th>\n",
       "      <td>19.00</td>\n",
       "      <td>7</td>\n",
       "    </tr>\n",
       "    <tr>\n",
       "      <th>7</th>\n",
       "      <td>9.50</td>\n",
       "      <td>3</td>\n",
       "    </tr>\n",
       "    <tr>\n",
       "      <th>8</th>\n",
       "      <td>17.90</td>\n",
       "      <td>10</td>\n",
       "    </tr>\n",
       "    <tr>\n",
       "      <th>9</th>\n",
       "      <td>18.75</td>\n",
       "      <td>9</td>\n",
       "    </tr>\n",
       "    <tr>\n",
       "      <th>10</th>\n",
       "      <td>19.83</td>\n",
       "      <td>8</td>\n",
       "    </tr>\n",
       "    <tr>\n",
       "      <th>11</th>\n",
       "      <td>10.75</td>\n",
       "      <td>4</td>\n",
       "    </tr>\n",
       "    <tr>\n",
       "      <th>12</th>\n",
       "      <td>16.68</td>\n",
       "      <td>7</td>\n",
       "    </tr>\n",
       "    <tr>\n",
       "      <th>13</th>\n",
       "      <td>11.50</td>\n",
       "      <td>3</td>\n",
       "    </tr>\n",
       "    <tr>\n",
       "      <th>14</th>\n",
       "      <td>12.03</td>\n",
       "      <td>3</td>\n",
       "    </tr>\n",
       "    <tr>\n",
       "      <th>15</th>\n",
       "      <td>14.88</td>\n",
       "      <td>4</td>\n",
       "    </tr>\n",
       "    <tr>\n",
       "      <th>16</th>\n",
       "      <td>13.75</td>\n",
       "      <td>6</td>\n",
       "    </tr>\n",
       "    <tr>\n",
       "      <th>17</th>\n",
       "      <td>18.11</td>\n",
       "      <td>7</td>\n",
       "    </tr>\n",
       "    <tr>\n",
       "      <th>18</th>\n",
       "      <td>8.00</td>\n",
       "      <td>2</td>\n",
       "    </tr>\n",
       "    <tr>\n",
       "      <th>19</th>\n",
       "      <td>17.83</td>\n",
       "      <td>7</td>\n",
       "    </tr>\n",
       "    <tr>\n",
       "      <th>20</th>\n",
       "      <td>21.50</td>\n",
       "      <td>5</td>\n",
       "    </tr>\n",
       "  </tbody>\n",
       "</table>\n",
       "</div>"
      ],
      "text/plain": [
       "    DeliveryTime  SortingTime\n",
       "0          21.00           10\n",
       "1          13.50            4\n",
       "2          19.75            6\n",
       "3          24.00            9\n",
       "4          29.00           10\n",
       "5          15.35            6\n",
       "6          19.00            7\n",
       "7           9.50            3\n",
       "8          17.90           10\n",
       "9          18.75            9\n",
       "10         19.83            8\n",
       "11         10.75            4\n",
       "12         16.68            7\n",
       "13         11.50            3\n",
       "14         12.03            3\n",
       "15         14.88            4\n",
       "16         13.75            6\n",
       "17         18.11            7\n",
       "18          8.00            2\n",
       "19         17.83            7\n",
       "20         21.50            5"
      ]
     },
     "execution_count": 23,
     "metadata": {},
     "output_type": "execute_result"
    }
   ],
   "source": [
    "\n",
    "import pandas as pd\n",
    "import numpy as np\n",
    "import matplotlib.pyplot as plt\n",
    "dt=pd.read_csv(\"delivery_time.csv\")\n",
    "dt"
   ]
  },
  {
   "cell_type": "code",
   "execution_count": 24,
   "id": "1d4bbd12",
   "metadata": {
    "ExecuteTime": {
     "end_time": "2021-09-28T10:35:12.331357Z",
     "start_time": "2021-09-28T10:35:12.289355Z"
    }
   },
   "outputs": [
    {
     "data": {
      "text/html": [
       "<div>\n",
       "<style scoped>\n",
       "    .dataframe tbody tr th:only-of-type {\n",
       "        vertical-align: middle;\n",
       "    }\n",
       "\n",
       "    .dataframe tbody tr th {\n",
       "        vertical-align: top;\n",
       "    }\n",
       "\n",
       "    .dataframe thead th {\n",
       "        text-align: right;\n",
       "    }\n",
       "</style>\n",
       "<table border=\"1\" class=\"dataframe\">\n",
       "  <thead>\n",
       "    <tr style=\"text-align: right;\">\n",
       "      <th></th>\n",
       "      <th>DeliveryTime</th>\n",
       "      <th>SortingTime</th>\n",
       "    </tr>\n",
       "  </thead>\n",
       "  <tbody>\n",
       "    <tr>\n",
       "      <th>count</th>\n",
       "      <td>21.000000</td>\n",
       "      <td>21.000000</td>\n",
       "    </tr>\n",
       "    <tr>\n",
       "      <th>mean</th>\n",
       "      <td>16.790952</td>\n",
       "      <td>6.190476</td>\n",
       "    </tr>\n",
       "    <tr>\n",
       "      <th>std</th>\n",
       "      <td>5.074901</td>\n",
       "      <td>2.542028</td>\n",
       "    </tr>\n",
       "    <tr>\n",
       "      <th>min</th>\n",
       "      <td>8.000000</td>\n",
       "      <td>2.000000</td>\n",
       "    </tr>\n",
       "    <tr>\n",
       "      <th>25%</th>\n",
       "      <td>13.500000</td>\n",
       "      <td>4.000000</td>\n",
       "    </tr>\n",
       "    <tr>\n",
       "      <th>50%</th>\n",
       "      <td>17.830000</td>\n",
       "      <td>6.000000</td>\n",
       "    </tr>\n",
       "    <tr>\n",
       "      <th>75%</th>\n",
       "      <td>19.750000</td>\n",
       "      <td>8.000000</td>\n",
       "    </tr>\n",
       "    <tr>\n",
       "      <th>max</th>\n",
       "      <td>29.000000</td>\n",
       "      <td>10.000000</td>\n",
       "    </tr>\n",
       "  </tbody>\n",
       "</table>\n",
       "</div>"
      ],
      "text/plain": [
       "       DeliveryTime  SortingTime\n",
       "count     21.000000    21.000000\n",
       "mean      16.790952     6.190476\n",
       "std        5.074901     2.542028\n",
       "min        8.000000     2.000000\n",
       "25%       13.500000     4.000000\n",
       "50%       17.830000     6.000000\n",
       "75%       19.750000     8.000000\n",
       "max       29.000000    10.000000"
      ]
     },
     "execution_count": 24,
     "metadata": {},
     "output_type": "execute_result"
    }
   ],
   "source": [
    "dt.describe()"
   ]
  },
  {
   "cell_type": "code",
   "execution_count": 25,
   "id": "feb3c9d9",
   "metadata": {
    "ExecuteTime": {
     "end_time": "2021-09-28T10:35:27.769240Z",
     "start_time": "2021-09-28T10:35:27.384218Z"
    }
   },
   "outputs": [
    {
     "data": {
      "text/plain": [
       "(array([2., 3., 2., 2., 4., 4., 2., 1., 0., 1.]),\n",
       " array([ 8. , 10.1, 12.2, 14.3, 16.4, 18.5, 20.6, 22.7, 24.8, 26.9, 29. ]),\n",
       " <BarContainer object of 10 artists>)"
      ]
     },
     "execution_count": 25,
     "metadata": {},
     "output_type": "execute_result"
    },
    {
     "data": {
      "image/png": "[encoded data removed]",
      "text/plain": [
       "<Figure size 432x288 with 1 Axes>"
      ]
     },
     "metadata": {
      "needs_background": "light"
     },
     "output_type": "display_data"
    }
   ],
   "source": [
    "plt.hist(dt[\"DeliveryTime\"])"
   ]
  },
  {
   "cell_type": "code",
   "execution_count": 26,
   "id": "bf0a48fc",
   "metadata": {
    "ExecuteTime": {
     "end_time": "2021-09-28T10:35:31.254440Z",
     "start_time": "2021-09-28T10:35:30.807414Z"
    }
   },
   "outputs": [
    {
     "data": {
      "text/plain": [
       "(array([1., 3., 3., 1., 0., 3., 4., 1., 2., 3.]),\n",
       " array([ 2. ,  2.8,  3.6,  4.4,  5.2,  6. ,  6.8,  7.6,  8.4,  9.2, 10. ]),\n",
       " <BarContainer object of 10 artists>)"
      ]
     },
     "execution_count": 26,
     "metadata": {},
     "output_type": "execute_result"
    },
    {
     "data": {
      "image/png": "[encoded data removed]",
      "text/plain": [
       "<Figure size 432x288 with 1 Axes>"
      ]
     },
     "metadata": {
      "needs_background": "light"
     },
     "output_type": "display_data"
    }
   ],
   "source": [
    "plt.hist(dt[\"SortingTime\"])"
   ]
  },
  {
   "cell_type": "code",
   "execution_count": 27,
   "id": "c313d4d8",
   "metadata": {
    "ExecuteTime": {
     "end_time": "2021-09-28T10:35:41.268012Z",
     "start_time": "2021-09-28T10:35:41.032999Z"
    }
   },
   "outputs": [
    {
     "data": {
      "text/plain": [
       "{'whiskers': [<matplotlib.lines.Line2D at 0x2fd2de50>,\n",
       "  <matplotlib.lines.Line2D at 0x2fd3b1f0>],\n",
       " 'caps': [<matplotlib.lines.Line2D at 0x2fd3b550>,\n",
       "  <matplotlib.lines.Line2D at 0x2fd3b8b0>],\n",
       " 'boxes': [<matplotlib.lines.Line2D at 0x2fd2daf0>],\n",
       " 'medians': [<matplotlib.lines.Line2D at 0x2fd3bc10>],\n",
       " 'fliers': [<matplotlib.lines.Line2D at 0x2fd3bf10>],\n",
       " 'means': []}"
      ]
     },
     "execution_count": 27,
     "metadata": {},
     "output_type": "execute_result"
    },
    {
     "data": {
      "image/png": "[encoded data removed]",
      "text/plain": [
       "<Figure size 432x288 with 1 Axes>"
      ]
     },
     "metadata": {
      "needs_background": "light"
     },
     "output_type": "display_data"
    }
   ],
   "source": [
    "plt.boxplot(dt[\"DeliveryTime\"])"
   ]
  },
  {
   "cell_type": "code",
   "execution_count": 28,
   "id": "3319deb0",
   "metadata": {
    "ExecuteTime": {
     "end_time": "2021-09-28T10:35:52.163636Z",
     "start_time": "2021-09-28T10:35:51.858618Z"
    }
   },
   "outputs": [
    {
     "data": {
      "text/plain": [
       "{'whiskers': [<matplotlib.lines.Line2D at 0x2fd86d60>,\n",
       "  <matplotlib.lines.Line2D at 0x2fd93100>],\n",
       " 'caps': [<matplotlib.lines.Line2D at 0x2fd93460>,\n",
       "  <matplotlib.lines.Line2D at 0x2fd937c0>],\n",
       " 'boxes': [<matplotlib.lines.Line2D at 0x2fd86a00>],\n",
       " 'medians': [<matplotlib.lines.Line2D at 0x2fd93b20>],\n",
       " 'fliers': [<matplotlib.lines.Line2D at 0x2fd93e80>],\n",
       " 'means': []}"
      ]
     },
     "execution_count": 28,
     "metadata": {},
     "output_type": "execute_result"
    },
    {
     "data": {
      "image/png": "[encoded data removed]",
      "text/plain": [
       "<Figure size 432x288 with 1 Axes>"
      ]
     },
     "metadata": {
      "needs_background": "light"
     },
     "output_type": "display_data"
    }
   ],
   "source": [
    "plt.boxplot(dt[\"SortingTime\"])"
   ]
  },
  {
   "cell_type": "code",
   "execution_count": 29,
   "id": "ee79153f",
   "metadata": {
    "ExecuteTime": {
     "end_time": "2021-09-28T10:36:03.062259Z",
     "start_time": "2021-09-28T10:36:03.046258Z"
    }
   },
   "outputs": [
    {
     "name": "stdout",
     "output_type": "stream",
     "text": [
      "<class 'pandas.core.frame.DataFrame'>\n",
      "RangeIndex: 21 entries, 0 to 20\n",
      "Data columns (total 2 columns):\n",
      " #   Column        Non-Null Count  Dtype  \n",
      "---  ------        --------------  -----  \n",
      " 0   DeliveryTime  21 non-null     float64\n",
      " 1   SortingTime   21 non-null     int64  \n",
      "dtypes: float64(1), int64(1)\n",
      "memory usage: 464.0 bytes\n"
     ]
    }
   ],
   "source": [
    "dt.info()"
   ]
  },
  {
   "cell_type": "code",
   "execution_count": 36,
   "id": "3352d4d8",
   "metadata": {
    "ExecuteTime": {
     "end_time": "2021-09-28T10:40:05.009646Z",
     "start_time": "2021-09-28T10:40:04.985645Z"
    }
   },
   "outputs": [
    {
     "data": {
      "text/plain": [
       "Intercept      6.582734\n",
       "SortingTime    1.649020\n",
       "dtype: float64"
      ]
     },
     "execution_count": 36,
     "metadata": {},
     "output_type": "execute_result"
    }
   ],
   "source": [
    "import statsmodels.formula.api as smf\n",
    "model=smf.ols(\"DeliveryTime~SortingTime\",data=dt).fit()\n",
    "model.params"
   ]
  },
  {
   "cell_type": "code",
   "execution_count": 34,
   "id": "d5cd5ee3",
   "metadata": {
    "ExecuteTime": {
     "end_time": "2021-09-28T10:39:33.666854Z",
     "start_time": "2021-09-28T10:39:33.644852Z"
    }
   },
   "outputs": [
    {
     "data": {
      "text/html": [
       "<table class=\"simpletable\">\n",
       "<caption>OLS Regression Results</caption>\n",
       "<tr>\n",
       "  <th>Dep. Variable:</th>      <td>DeliveryTime</td>   <th>  R-squared:         </th> <td>   0.682</td>\n",
       "</tr>\n",
       "<tr>\n",
       "  <th>Model:</th>                   <td>OLS</td>       <th>  Adj. R-squared:    </th> <td>   0.666</td>\n",
       "</tr>\n",
       "<tr>\n",
       "  <th>Method:</th>             <td>Least Squares</td>  <th>  F-statistic:       </th> <td>   40.80</td>\n",
       "</tr>\n",
       "<tr>\n",
       "  <th>Date:</th>             <td>Tue, 28 Sep 2021</td> <th>  Prob (F-statistic):</th> <td>3.98e-06</td>\n",
       "</tr>\n",
       "<tr>\n",
       "  <th>Time:</th>                 <td>16:09:33</td>     <th>  Log-Likelihood:    </th> <td> -51.357</td>\n",
       "</tr>\n",
       "<tr>\n",
       "  <th>No. Observations:</th>      <td>    21</td>      <th>  AIC:               </th> <td>   106.7</td>\n",
       "</tr>\n",
       "<tr>\n",
       "  <th>Df Residuals:</th>          <td>    19</td>      <th>  BIC:               </th> <td>   108.8</td>\n",
       "</tr>\n",
       "<tr>\n",
       "  <th>Df Model:</th>              <td>     1</td>      <th>                     </th>     <td> </td>   \n",
       "</tr>\n",
       "<tr>\n",
       "  <th>Covariance Type:</th>      <td>nonrobust</td>    <th>                     </th>     <td> </td>   \n",
       "</tr>\n",
       "</table>\n",
       "<table class=\"simpletable\">\n",
       "<tr>\n",
       "       <td></td>          <th>coef</th>     <th>std err</th>      <th>t</th>      <th>P>|t|</th>  <th>[0.025</th>    <th>0.975]</th>  \n",
       "</tr>\n",
       "<tr>\n",
       "  <th>Intercept</th>   <td>    6.5827</td> <td>    1.722</td> <td>    3.823</td> <td> 0.001</td> <td>    2.979</td> <td>   10.186</td>\n",
       "</tr>\n",
       "<tr>\n",
       "  <th>SortingTime</th> <td>    1.6490</td> <td>    0.258</td> <td>    6.387</td> <td> 0.000</td> <td>    1.109</td> <td>    2.189</td>\n",
       "</tr>\n",
       "</table>\n",
       "<table class=\"simpletable\">\n",
       "<tr>\n",
       "  <th>Omnibus:</th>       <td> 3.649</td> <th>  Durbin-Watson:     </th> <td>   1.248</td>\n",
       "</tr>\n",
       "<tr>\n",
       "  <th>Prob(Omnibus):</th> <td> 0.161</td> <th>  Jarque-Bera (JB):  </th> <td>   2.086</td>\n",
       "</tr>\n",
       "<tr>\n",
       "  <th>Skew:</th>          <td> 0.750</td> <th>  Prob(JB):          </th> <td>   0.352</td>\n",
       "</tr>\n",
       "<tr>\n",
       "  <th>Kurtosis:</th>      <td> 3.367</td> <th>  Cond. No.          </th> <td>    18.3</td>\n",
       "</tr>\n",
       "</table><br/><br/>Notes:<br/>[1] Standard Errors assume that the covariance matrix of the errors is correctly specified."
      ],
      "text/plain": [
       "<class 'statsmodels.iolib.summary.Summary'>\n",
       "\"\"\"\n",
       "                            OLS Regression Results                            \n",
       "==============================================================================\n",
       "Dep. Variable:           DeliveryTime   R-squared:                       0.682\n",
       "Model:                            OLS   Adj. R-squared:                  0.666\n",
       "Method:                 Least Squares   F-statistic:                     40.80\n",
       "Date:                Tue, 28 Sep 2021   Prob (F-statistic):           3.98e-06\n",
       "Time:                        16:09:33   Log-Likelihood:                -51.357\n",
       "No. Observations:                  21   AIC:                             106.7\n",
       "Df Residuals:                      19   BIC:                             108.8\n",
       "Df Model:                           1                                         \n",
       "Covariance Type:            nonrobust                                         \n",
       "===============================================================================\n",
       "                  coef    std err          t      P>|t|      [0.025      0.975]\n",
       "-------------------------------------------------------------------------------\n",
       "Intercept       6.5827      1.722      3.823      0.001       2.979      10.186\n",
       "SortingTime     1.6490      0.258      6.387      0.000       1.109       2.189\n",
       "==============================================================================\n",
       "Omnibus:                        3.649   Durbin-Watson:                   1.248\n",
       "Prob(Omnibus):                  0.161   Jarque-Bera (JB):                2.086\n",
       "Skew:                           0.750   Prob(JB):                        0.352\n",
       "Kurtosis:                       3.367   Cond. No.                         18.3\n",
       "==============================================================================\n",
       "\n",
       "Notes:\n",
       "[1] Standard Errors assume that the covariance matrix of the errors is correctly specified.\n",
       "\"\"\""
      ]
     },
     "execution_count": 34,
     "metadata": {},
     "output_type": "execute_result"
    }
   ],
   "source": [
    "model.summary()"
   ]
  },
  {
   "cell_type": "code",
   "execution_count": 38,
   "id": "86c2f702",
   "metadata": {
    "ExecuteTime": {
     "end_time": "2021-09-28T10:40:44.787922Z",
     "start_time": "2021-09-28T10:40:44.755920Z"
    }
   },
   "outputs": [
    {
     "data": {
      "text/html": [
       "<div>\n",
       "<style scoped>\n",
       "    .dataframe tbody tr th:only-of-type {\n",
       "        vertical-align: middle;\n",
       "    }\n",
       "\n",
       "    .dataframe tbody tr th {\n",
       "        vertical-align: top;\n",
       "    }\n",
       "\n",
       "    .dataframe thead th {\n",
       "        text-align: right;\n",
       "    }\n",
       "</style>\n",
       "<table border=\"1\" class=\"dataframe\">\n",
       "  <thead>\n",
       "    <tr style=\"text-align: right;\">\n",
       "      <th></th>\n",
       "      <th>DeliveryTime</th>\n",
       "      <th>SortingTime</th>\n",
       "    </tr>\n",
       "  </thead>\n",
       "  <tbody>\n",
       "    <tr>\n",
       "      <th>0</th>\n",
       "      <td>21.00</td>\n",
       "      <td>10</td>\n",
       "    </tr>\n",
       "    <tr>\n",
       "      <th>1</th>\n",
       "      <td>13.50</td>\n",
       "      <td>4</td>\n",
       "    </tr>\n",
       "    <tr>\n",
       "      <th>2</th>\n",
       "      <td>19.75</td>\n",
       "      <td>6</td>\n",
       "    </tr>\n",
       "    <tr>\n",
       "      <th>3</th>\n",
       "      <td>24.00</td>\n",
       "      <td>9</td>\n",
       "    </tr>\n",
       "    <tr>\n",
       "      <th>4</th>\n",
       "      <td>29.00</td>\n",
       "      <td>10</td>\n",
       "    </tr>\n",
       "    <tr>\n",
       "      <th>5</th>\n",
       "      <td>15.35</td>\n",
       "      <td>6</td>\n",
       "    </tr>\n",
       "    <tr>\n",
       "      <th>6</th>\n",
       "      <td>19.00</td>\n",
       "      <td>7</td>\n",
       "    </tr>\n",
       "    <tr>\n",
       "      <th>7</th>\n",
       "      <td>9.50</td>\n",
       "      <td>3</td>\n",
       "    </tr>\n",
       "    <tr>\n",
       "      <th>8</th>\n",
       "      <td>17.90</td>\n",
       "      <td>10</td>\n",
       "    </tr>\n",
       "    <tr>\n",
       "      <th>9</th>\n",
       "      <td>18.75</td>\n",
       "      <td>9</td>\n",
       "    </tr>\n",
       "    <tr>\n",
       "      <th>10</th>\n",
       "      <td>19.83</td>\n",
       "      <td>8</td>\n",
       "    </tr>\n",
       "    <tr>\n",
       "      <th>11</th>\n",
       "      <td>10.75</td>\n",
       "      <td>4</td>\n",
       "    </tr>\n",
       "    <tr>\n",
       "      <th>12</th>\n",
       "      <td>16.68</td>\n",
       "      <td>7</td>\n",
       "    </tr>\n",
       "    <tr>\n",
       "      <th>13</th>\n",
       "      <td>11.50</td>\n",
       "      <td>3</td>\n",
       "    </tr>\n",
       "    <tr>\n",
       "      <th>14</th>\n",
       "      <td>12.03</td>\n",
       "      <td>3</td>\n",
       "    </tr>\n",
       "    <tr>\n",
       "      <th>15</th>\n",
       "      <td>14.88</td>\n",
       "      <td>4</td>\n",
       "    </tr>\n",
       "    <tr>\n",
       "      <th>16</th>\n",
       "      <td>13.75</td>\n",
       "      <td>6</td>\n",
       "    </tr>\n",
       "    <tr>\n",
       "      <th>17</th>\n",
       "      <td>18.11</td>\n",
       "      <td>7</td>\n",
       "    </tr>\n",
       "    <tr>\n",
       "      <th>18</th>\n",
       "      <td>8.00</td>\n",
       "      <td>2</td>\n",
       "    </tr>\n",
       "    <tr>\n",
       "      <th>19</th>\n",
       "      <td>17.83</td>\n",
       "      <td>7</td>\n",
       "    </tr>\n",
       "    <tr>\n",
       "      <th>20</th>\n",
       "      <td>21.50</td>\n",
       "      <td>5</td>\n",
       "    </tr>\n",
       "  </tbody>\n",
       "</table>\n",
       "</div>"
      ],
      "text/plain": [
       "    DeliveryTime  SortingTime\n",
       "0          21.00           10\n",
       "1          13.50            4\n",
       "2          19.75            6\n",
       "3          24.00            9\n",
       "4          29.00           10\n",
       "5          15.35            6\n",
       "6          19.00            7\n",
       "7           9.50            3\n",
       "8          17.90           10\n",
       "9          18.75            9\n",
       "10         19.83            8\n",
       "11         10.75            4\n",
       "12         16.68            7\n",
       "13         11.50            3\n",
       "14         12.03            3\n",
       "15         14.88            4\n",
       "16         13.75            6\n",
       "17         18.11            7\n",
       "18          8.00            2\n",
       "19         17.83            7\n",
       "20         21.50            5"
      ]
     },
     "execution_count": 38,
     "metadata": {},
     "output_type": "execute_result"
    }
   ],
   "source": [
    "dt"
   ]
  },
  {
   "cell_type": "code",
   "execution_count": 52,
   "id": "ebe41269",
   "metadata": {
    "ExecuteTime": {
     "end_time": "2021-09-28T10:52:25.612335Z",
     "start_time": "2021-09-28T10:52:25.587334Z"
    }
   },
   "outputs": [
    {
     "data": {
      "text/plain": [
       "0     23.072933\n",
       "1     13.178814\n",
       "2     16.476853\n",
       "3     21.423913\n",
       "4     23.072933\n",
       "5     16.476853\n",
       "6     18.125873\n",
       "7     11.529794\n",
       "8     23.072933\n",
       "9     21.423913\n",
       "10    19.774893\n",
       "11    13.178814\n",
       "12    18.125873\n",
       "13    11.529794\n",
       "14    11.529794\n",
       "15    13.178814\n",
       "16    16.476853\n",
       "17    18.125873\n",
       "18     9.880774\n",
       "19    18.125873\n",
       "20    14.827833\n",
       "dtype: float64"
      ]
     },
     "execution_count": 52,
     "metadata": {},
     "output_type": "execute_result"
    }
   ],
   "source": [
    "pred=model.predict(dt.iloc[:,:])\n",
    "pred"
   ]
  },
  {
   "cell_type": "code",
   "execution_count": 53,
   "id": "18cd0d78",
   "metadata": {
    "ExecuteTime": {
     "end_time": "2021-09-28T10:52:28.997529Z",
     "start_time": "2021-09-28T10:52:28.980528Z"
    }
   },
   "outputs": [
    {
     "data": {
      "text/plain": [
       "2.791650327061766"
      ]
     },
     "execution_count": 53,
     "metadata": {},
     "output_type": "execute_result"
    }
   ],
   "source": [
    "rmse_lin = np.sqrt(np.mean((np.array(dt['DeliveryTime'])-np.array(pred))**2))\n",
    "rmse_lin "
   ]
  },
  {
   "cell_type": "code",
   "execution_count": 46,
   "id": "3cf4a675",
   "metadata": {
    "ExecuteTime": {
     "end_time": "2021-09-28T10:50:04.861767Z",
     "start_time": "2021-09-28T10:50:04.426766Z"
    }
   },
   "outputs": [
    {
     "data": {
      "text/plain": [
       "Text(0, 0.5, 'Dt')"
      ]
     },
     "execution_count": 46,
     "metadata": {},
     "output_type": "execute_result"
    },
    {
     "data": {
      "image/png": "[encoded data removed]",
      "text/plain": [
       "<Figure size 432x288 with 1 Axes>"
      ]
     },
     "metadata": {
      "needs_background": "light"
     },
     "output_type": "display_data"
    }
   ],
   "source": [
    "import matplotlib.pylab as plt\n",
    "plt.scatter(x=dt['SortingTime'],y=dt['DeliveryTime'],color='red')\n",
    "plt.plot(dt['SortingTime'],pred,color='black')\n",
    "plt.xlabel('st')\n",
    "plt.ylabel('Dt')"
   ]
  },
  {
   "cell_type": "code",
   "execution_count": 61,
   "id": "441592fc",
   "metadata": {
    "ExecuteTime": {
     "end_time": "2021-09-28T10:58:31.791996Z",
     "start_time": "2021-09-28T10:58:31.757994Z"
    }
   },
   "outputs": [
    {
     "data": {
      "text/plain": [
       "Intercept              1.159684\n",
       "np.log(SortingTime)    9.043413\n",
       "dtype: float64"
      ]
     },
     "execution_count": 61,
     "metadata": {},
     "output_type": "execute_result"
    }
   ],
   "source": [
    "model2 = smf.ols('DeliveryTime~np.log(SortingTime)',data=dt).fit()\n",
    "model2.params\n"
   ]
  },
  {
   "cell_type": "code",
   "execution_count": 54,
   "id": "5ccdc46c",
   "metadata": {
    "ExecuteTime": {
     "end_time": "2021-09-28T10:52:35.537903Z",
     "start_time": "2021-09-28T10:52:35.514901Z"
    }
   },
   "outputs": [
    {
     "data": {
      "text/html": [
       "<table class=\"simpletable\">\n",
       "<caption>OLS Regression Results</caption>\n",
       "<tr>\n",
       "  <th>Dep. Variable:</th>      <td>DeliveryTime</td>   <th>  R-squared:         </th> <td>   0.695</td>\n",
       "</tr>\n",
       "<tr>\n",
       "  <th>Model:</th>                   <td>OLS</td>       <th>  Adj. R-squared:    </th> <td>   0.679</td>\n",
       "</tr>\n",
       "<tr>\n",
       "  <th>Method:</th>             <td>Least Squares</td>  <th>  F-statistic:       </th> <td>   43.39</td>\n",
       "</tr>\n",
       "<tr>\n",
       "  <th>Date:</th>             <td>Tue, 28 Sep 2021</td> <th>  Prob (F-statistic):</th> <td>2.64e-06</td>\n",
       "</tr>\n",
       "<tr>\n",
       "  <th>Time:</th>                 <td>16:22:35</td>     <th>  Log-Likelihood:    </th> <td> -50.912</td>\n",
       "</tr>\n",
       "<tr>\n",
       "  <th>No. Observations:</th>      <td>    21</td>      <th>  AIC:               </th> <td>   105.8</td>\n",
       "</tr>\n",
       "<tr>\n",
       "  <th>Df Residuals:</th>          <td>    19</td>      <th>  BIC:               </th> <td>   107.9</td>\n",
       "</tr>\n",
       "<tr>\n",
       "  <th>Df Model:</th>              <td>     1</td>      <th>                     </th>     <td> </td>   \n",
       "</tr>\n",
       "<tr>\n",
       "  <th>Covariance Type:</th>      <td>nonrobust</td>    <th>                     </th>     <td> </td>   \n",
       "</tr>\n",
       "</table>\n",
       "<table class=\"simpletable\">\n",
       "<tr>\n",
       "           <td></td>              <th>coef</th>     <th>std err</th>      <th>t</th>      <th>P>|t|</th>  <th>[0.025</th>    <th>0.975]</th>  \n",
       "</tr>\n",
       "<tr>\n",
       "  <th>Intercept</th>           <td>    1.1597</td> <td>    2.455</td> <td>    0.472</td> <td> 0.642</td> <td>   -3.978</td> <td>    6.297</td>\n",
       "</tr>\n",
       "<tr>\n",
       "  <th>np.log(SortingTime)</th> <td>    9.0434</td> <td>    1.373</td> <td>    6.587</td> <td> 0.000</td> <td>    6.170</td> <td>   11.917</td>\n",
       "</tr>\n",
       "</table>\n",
       "<table class=\"simpletable\">\n",
       "<tr>\n",
       "  <th>Omnibus:</th>       <td> 5.552</td> <th>  Durbin-Watson:     </th> <td>   1.427</td>\n",
       "</tr>\n",
       "<tr>\n",
       "  <th>Prob(Omnibus):</th> <td> 0.062</td> <th>  Jarque-Bera (JB):  </th> <td>   3.481</td>\n",
       "</tr>\n",
       "<tr>\n",
       "  <th>Skew:</th>          <td> 0.946</td> <th>  Prob(JB):          </th> <td>   0.175</td>\n",
       "</tr>\n",
       "<tr>\n",
       "  <th>Kurtosis:</th>      <td> 3.628</td> <th>  Cond. No.          </th> <td>    9.08</td>\n",
       "</tr>\n",
       "</table><br/><br/>Notes:<br/>[1] Standard Errors assume that the covariance matrix of the errors is correctly specified."
      ],
      "text/plain": [
       "<class 'statsmodels.iolib.summary.Summary'>\n",
       "\"\"\"\n",
       "                            OLS Regression Results                            \n",
       "==============================================================================\n",
       "Dep. Variable:           DeliveryTime   R-squared:                       0.695\n",
       "Model:                            OLS   Adj. R-squared:                  0.679\n",
       "Method:                 Least Squares   F-statistic:                     43.39\n",
       "Date:                Tue, 28 Sep 2021   Prob (F-statistic):           2.64e-06\n",
       "Time:                        16:22:35   Log-Likelihood:                -50.912\n",
       "No. Observations:                  21   AIC:                             105.8\n",
       "Df Residuals:                      19   BIC:                             107.9\n",
       "Df Model:                           1                                         \n",
       "Covariance Type:            nonrobust                                         \n",
       "=======================================================================================\n",
       "                          coef    std err          t      P>|t|      [0.025      0.975]\n",
       "---------------------------------------------------------------------------------------\n",
       "Intercept               1.1597      2.455      0.472      0.642      -3.978       6.297\n",
       "np.log(SortingTime)     9.0434      1.373      6.587      0.000       6.170      11.917\n",
       "==============================================================================\n",
       "Omnibus:                        5.552   Durbin-Watson:                   1.427\n",
       "Prob(Omnibus):                  0.062   Jarque-Bera (JB):                3.481\n",
       "Skew:                           0.946   Prob(JB):                        0.175\n",
       "Kurtosis:                       3.628   Cond. No.                         9.08\n",
       "==============================================================================\n",
       "\n",
       "Notes:\n",
       "[1] Standard Errors assume that the covariance matrix of the errors is correctly specified.\n",
       "\"\"\""
      ]
     },
     "execution_count": 54,
     "metadata": {},
     "output_type": "execute_result"
    }
   ],
   "source": [
    "model2.summary()"
   ]
  },
  {
   "cell_type": "code",
   "execution_count": 57,
   "id": "9333f067",
   "metadata": {
    "ExecuteTime": {
     "end_time": "2021-09-28T10:55:53.453797Z",
     "start_time": "2021-09-28T10:55:53.432796Z"
    }
   },
   "outputs": [
    {
     "data": {
      "text/plain": [
       "0     21.982913\n",
       "1     13.696517\n",
       "2     17.363305\n",
       "3     21.030094\n",
       "4     21.982913\n",
       "5     17.363305\n",
       "6     18.757354\n",
       "7     11.094889\n",
       "8     21.982913\n",
       "9     21.030094\n",
       "10    19.964933\n",
       "11    13.696517\n",
       "12    18.757354\n",
       "13    11.094889\n",
       "14    11.094889\n",
       "15    13.696517\n",
       "16    17.363305\n",
       "17    18.757354\n",
       "18     7.428100\n",
       "19    18.757354\n",
       "20    15.714496\n",
       "dtype: float64"
      ]
     },
     "execution_count": 57,
     "metadata": {},
     "output_type": "execute_result"
    }
   ],
   "source": [
    "pred2=model2.predict(dt.iloc[:,:])\n",
    "pred2"
   ]
  },
  {
   "cell_type": "code",
   "execution_count": 59,
   "id": "d88b26d9",
   "metadata": {
    "ExecuteTime": {
     "end_time": "2021-09-28T10:56:20.704356Z",
     "start_time": "2021-09-28T10:56:20.686355Z"
    }
   },
   "outputs": [
    {
     "data": {
      "text/plain": [
       "2.7331714766820663"
      ]
     },
     "execution_count": 59,
     "metadata": {},
     "output_type": "execute_result"
    }
   ],
   "source": [
    "rmse_lin = np.sqrt(np.mean((np.array(dt['DeliveryTime'])-np.array(pred2))**2))\n",
    "rmse_lin "
   ]
  },
  {
   "cell_type": "code",
   "execution_count": 62,
   "id": "14baa6cb",
   "metadata": {
    "ExecuteTime": {
     "end_time": "2021-09-28T10:58:37.586327Z",
     "start_time": "2021-09-28T10:58:37.151303Z"
    }
   },
   "outputs": [
    {
     "data": {
      "text/plain": [
       "Text(0, 0.5, 'Dt')"
      ]
     },
     "execution_count": 62,
     "metadata": {},
     "output_type": "execute_result"
    },
    {
     "data": {
      "image/png": "[encoded data removed]",
      "text/plain": [
       "<Figure size 432x288 with 1 Axes>"
      ]
     },
     "metadata": {
      "needs_background": "light"
     },
     "output_type": "display_data"
    }
   ],
   "source": [
    "import matplotlib.pylab as plt\n",
    "plt.scatter(x=dt['SortingTime'],y=dt['DeliveryTime'],color='red')\n",
    "plt.plot(dt['SortingTime'],pred2,color='black')\n",
    "plt.xlabel('st')\n",
    "plt.ylabel('Dt')"
   ]
  },
  {
   "cell_type": "code",
   "execution_count": 67,
   "id": "82837ee2",
   "metadata": {
    "ExecuteTime": {
     "end_time": "2021-09-28T10:59:41.518984Z",
     "start_time": "2021-09-28T10:59:41.482982Z"
    }
   },
   "outputs": [
    {
     "data": {
      "text/plain": [
       "Intercept              -2.518837\n",
       "np.sqrt(SortingTime)    7.936591\n",
       "dtype: float64"
      ]
     },
     "execution_count": 67,
     "metadata": {},
     "output_type": "execute_result"
    }
   ],
   "source": [
    "model3 = smf.ols('DeliveryTime~np.sqrt(SortingTime)',data=dt).fit()\n",
    "model3.params"
   ]
  },
  {
   "cell_type": "code",
   "execution_count": 70,
   "id": "1f8a9148",
   "metadata": {
    "ExecuteTime": {
     "end_time": "2021-09-28T11:00:22.884350Z",
     "start_time": "2021-09-28T11:00:22.863349Z"
    }
   },
   "outputs": [
    {
     "data": {
      "text/html": [
       "<table class=\"simpletable\">\n",
       "<caption>OLS Regression Results</caption>\n",
       "<tr>\n",
       "  <th>Dep. Variable:</th>      <td>DeliveryTime</td>   <th>  R-squared:         </th> <td>   0.696</td>\n",
       "</tr>\n",
       "<tr>\n",
       "  <th>Model:</th>                   <td>OLS</td>       <th>  Adj. R-squared:    </th> <td>   0.680</td>\n",
       "</tr>\n",
       "<tr>\n",
       "  <th>Method:</th>             <td>Least Squares</td>  <th>  F-statistic:       </th> <td>   43.46</td>\n",
       "</tr>\n",
       "<tr>\n",
       "  <th>Date:</th>             <td>Tue, 28 Sep 2021</td> <th>  Prob (F-statistic):</th> <td>2.61e-06</td>\n",
       "</tr>\n",
       "<tr>\n",
       "  <th>Time:</th>                 <td>16:30:22</td>     <th>  Log-Likelihood:    </th> <td> -50.900</td>\n",
       "</tr>\n",
       "<tr>\n",
       "  <th>No. Observations:</th>      <td>    21</td>      <th>  AIC:               </th> <td>   105.8</td>\n",
       "</tr>\n",
       "<tr>\n",
       "  <th>Df Residuals:</th>          <td>    19</td>      <th>  BIC:               </th> <td>   107.9</td>\n",
       "</tr>\n",
       "<tr>\n",
       "  <th>Df Model:</th>              <td>     1</td>      <th>                     </th>     <td> </td>   \n",
       "</tr>\n",
       "<tr>\n",
       "  <th>Covariance Type:</th>      <td>nonrobust</td>    <th>                     </th>     <td> </td>   \n",
       "</tr>\n",
       "</table>\n",
       "<table class=\"simpletable\">\n",
       "<tr>\n",
       "            <td></td>              <th>coef</th>     <th>std err</th>      <th>t</th>      <th>P>|t|</th>  <th>[0.025</th>    <th>0.975]</th>  \n",
       "</tr>\n",
       "<tr>\n",
       "  <th>Intercept</th>            <td>   -2.5188</td> <td>    2.995</td> <td>   -0.841</td> <td> 0.411</td> <td>   -8.788</td> <td>    3.751</td>\n",
       "</tr>\n",
       "<tr>\n",
       "  <th>np.sqrt(SortingTime)</th> <td>    7.9366</td> <td>    1.204</td> <td>    6.592</td> <td> 0.000</td> <td>    5.417</td> <td>   10.456</td>\n",
       "</tr>\n",
       "</table>\n",
       "<table class=\"simpletable\">\n",
       "<tr>\n",
       "  <th>Omnibus:</th>       <td> 4.658</td> <th>  Durbin-Watson:     </th> <td>   1.318</td>\n",
       "</tr>\n",
       "<tr>\n",
       "  <th>Prob(Omnibus):</th> <td> 0.097</td> <th>  Jarque-Bera (JB):  </th> <td>   2.824</td>\n",
       "</tr>\n",
       "<tr>\n",
       "  <th>Skew:</th>          <td> 0.865</td> <th>  Prob(JB):          </th> <td>   0.244</td>\n",
       "</tr>\n",
       "<tr>\n",
       "  <th>Kurtosis:</th>      <td> 3.483</td> <th>  Cond. No.          </th> <td>    13.7</td>\n",
       "</tr>\n",
       "</table><br/><br/>Notes:<br/>[1] Standard Errors assume that the covariance matrix of the errors is correctly specified."
      ],
      "text/plain": [
       "<class 'statsmodels.iolib.summary.Summary'>\n",
       "\"\"\"\n",
       "                            OLS Regression Results                            \n",
       "==============================================================================\n",
       "Dep. Variable:           DeliveryTime   R-squared:                       0.696\n",
       "Model:                            OLS   Adj. R-squared:                  0.680\n",
       "Method:                 Least Squares   F-statistic:                     43.46\n",
       "Date:                Tue, 28 Sep 2021   Prob (F-statistic):           2.61e-06\n",
       "Time:                        16:30:22   Log-Likelihood:                -50.900\n",
       "No. Observations:                  21   AIC:                             105.8\n",
       "Df Residuals:                      19   BIC:                             107.9\n",
       "Df Model:                           1                                         \n",
       "Covariance Type:            nonrobust                                         \n",
       "========================================================================================\n",
       "                           coef    std err          t      P>|t|      [0.025      0.975]\n",
       "----------------------------------------------------------------------------------------\n",
       "Intercept               -2.5188      2.995     -0.841      0.411      -8.788       3.751\n",
       "np.sqrt(SortingTime)     7.9366      1.204      6.592      0.000       5.417      10.456\n",
       "==============================================================================\n",
       "Omnibus:                        4.658   Durbin-Watson:                   1.318\n",
       "Prob(Omnibus):                  0.097   Jarque-Bera (JB):                2.824\n",
       "Skew:                           0.865   Prob(JB):                        0.244\n",
       "Kurtosis:                       3.483   Cond. No.                         13.7\n",
       "==============================================================================\n",
       "\n",
       "Notes:\n",
       "[1] Standard Errors assume that the covariance matrix of the errors is correctly specified.\n",
       "\"\"\""
      ]
     },
     "execution_count": 70,
     "metadata": {},
     "output_type": "execute_result"
    }
   ],
   "source": [
    "model3.summary()"
   ]
  },
  {
   "cell_type": "code",
   "execution_count": 72,
   "id": "29402df6",
   "metadata": {
    "ExecuteTime": {
     "end_time": "2021-09-28T11:00:46.583706Z",
     "start_time": "2021-09-28T11:00:46.562704Z"
    }
   },
   "outputs": [
    {
     "data": {
      "text/plain": [
       "0     22.578867\n",
       "1     13.354345\n",
       "2     16.921761\n",
       "3     21.290936\n",
       "4     22.578867\n",
       "5     16.921761\n",
       "6     18.479409\n",
       "7     11.227742\n",
       "8     22.578867\n",
       "9     21.290936\n",
       "10    19.929232\n",
       "11    13.354345\n",
       "12    18.479409\n",
       "13    11.227742\n",
       "14    11.227742\n",
       "15    13.354345\n",
       "16    16.921761\n",
       "17    18.479409\n",
       "18     8.705198\n",
       "19    18.479409\n",
       "20    15.227920\n",
       "dtype: float64"
      ]
     },
     "execution_count": 72,
     "metadata": {},
     "output_type": "execute_result"
    }
   ],
   "source": [
    "pred3=model.predict(dt.iloc[:,:])\n",
    "pred3"
   ]
  },
  {
   "cell_type": "code",
   "execution_count": 109,
   "id": "2b79c7fd",
   "metadata": {
    "ExecuteTime": {
     "end_time": "2021-09-28T11:21:13.366944Z",
     "start_time": "2021-09-28T11:21:13.351944Z"
    }
   },
   "outputs": [
    {
     "data": {
      "text/plain": [
       "2.7315432100912105"
      ]
     },
     "execution_count": 109,
     "metadata": {},
     "output_type": "execute_result"
    }
   ],
   "source": [
    "rmse_lin = np.sqrt(np.mean((np.array(dt['DeliveryTime'])-np.array(pred3))**2))\n",
    "rmse_lin "
   ]
  },
  {
   "cell_type": "code",
   "execution_count": 110,
   "id": "1402ac70",
   "metadata": {
    "ExecuteTime": {
     "end_time": "2021-09-28T11:21:36.634080Z",
     "start_time": "2021-09-28T11:21:36.617079Z"
    }
   },
   "outputs": [
    {
     "data": {
      "text/plain": [
       "array([-0.54979987,  0.05072065,  0.98486155,  0.94336205,  2.23599456,\n",
       "       -0.54732539,  0.18128252, -0.60164169, -1.62929521, -0.88481554,\n",
       "       -0.03455498, -0.90689618, -0.62659787,  0.09480692,  0.2793658 ,\n",
       "        0.53127019, -1.10448427, -0.12863711, -0.24556697, -0.22613992,\n",
       "        2.18409075])"
      ]
     },
     "execution_count": 110,
     "metadata": {},
     "output_type": "execute_result"
    }
   ],
   "source": [
    "model3.resid \n",
    "model3.resid_pearson \n"
   ]
  },
  {
   "cell_type": "code",
   "execution_count": null,
   "id": "82b4eb42",
   "metadata": {},
   "outputs": [],
   "source": [
    "#model 3 has higher adjusted r square value and least rmse so model 3 is the best model"
   ]
  },
  {
   "cell_type": "code",
   "execution_count": 78,
   "id": "555139dd",
   "metadata": {
    "ExecuteTime": {
     "end_time": "2021-09-28T11:03:04.144574Z",
     "start_time": "2021-09-28T11:03:04.094571Z"
    }
   },
   "outputs": [
    {
     "data": {
      "text/html": [
       "<div>\n",
       "<style scoped>\n",
       "    .dataframe tbody tr th:only-of-type {\n",
       "        vertical-align: middle;\n",
       "    }\n",
       "\n",
       "    .dataframe tbody tr th {\n",
       "        vertical-align: top;\n",
       "    }\n",
       "\n",
       "    .dataframe thead th {\n",
       "        text-align: right;\n",
       "    }\n",
       "</style>\n",
       "<table border=\"1\" class=\"dataframe\">\n",
       "  <thead>\n",
       "    <tr style=\"text-align: right;\">\n",
       "      <th></th>\n",
       "      <th>YearsExperience</th>\n",
       "      <th>Salary</th>\n",
       "    </tr>\n",
       "  </thead>\n",
       "  <tbody>\n",
       "    <tr>\n",
       "      <th>0</th>\n",
       "      <td>1.1</td>\n",
       "      <td>39343.0</td>\n",
       "    </tr>\n",
       "    <tr>\n",
       "      <th>1</th>\n",
       "      <td>1.3</td>\n",
       "      <td>46205.0</td>\n",
       "    </tr>\n",
       "    <tr>\n",
       "      <th>2</th>\n",
       "      <td>1.5</td>\n",
       "      <td>37731.0</td>\n",
       "    </tr>\n",
       "    <tr>\n",
       "      <th>3</th>\n",
       "      <td>2.0</td>\n",
       "      <td>43525.0</td>\n",
       "    </tr>\n",
       "    <tr>\n",
       "      <th>4</th>\n",
       "      <td>2.2</td>\n",
       "      <td>39891.0</td>\n",
       "    </tr>\n",
       "    <tr>\n",
       "      <th>5</th>\n",
       "      <td>2.9</td>\n",
       "      <td>56642.0</td>\n",
       "    </tr>\n",
       "    <tr>\n",
       "      <th>6</th>\n",
       "      <td>3.0</td>\n",
       "      <td>60150.0</td>\n",
       "    </tr>\n",
       "    <tr>\n",
       "      <th>7</th>\n",
       "      <td>3.2</td>\n",
       "      <td>54445.0</td>\n",
       "    </tr>\n",
       "    <tr>\n",
       "      <th>8</th>\n",
       "      <td>3.2</td>\n",
       "      <td>64445.0</td>\n",
       "    </tr>\n",
       "    <tr>\n",
       "      <th>9</th>\n",
       "      <td>3.7</td>\n",
       "      <td>57189.0</td>\n",
       "    </tr>\n",
       "    <tr>\n",
       "      <th>10</th>\n",
       "      <td>3.9</td>\n",
       "      <td>63218.0</td>\n",
       "    </tr>\n",
       "    <tr>\n",
       "      <th>11</th>\n",
       "      <td>4.0</td>\n",
       "      <td>55794.0</td>\n",
       "    </tr>\n",
       "    <tr>\n",
       "      <th>12</th>\n",
       "      <td>4.0</td>\n",
       "      <td>56957.0</td>\n",
       "    </tr>\n",
       "    <tr>\n",
       "      <th>13</th>\n",
       "      <td>4.1</td>\n",
       "      <td>57081.0</td>\n",
       "    </tr>\n",
       "    <tr>\n",
       "      <th>14</th>\n",
       "      <td>4.5</td>\n",
       "      <td>61111.0</td>\n",
       "    </tr>\n",
       "    <tr>\n",
       "      <th>15</th>\n",
       "      <td>4.9</td>\n",
       "      <td>67938.0</td>\n",
       "    </tr>\n",
       "    <tr>\n",
       "      <th>16</th>\n",
       "      <td>5.1</td>\n",
       "      <td>66029.0</td>\n",
       "    </tr>\n",
       "    <tr>\n",
       "      <th>17</th>\n",
       "      <td>5.3</td>\n",
       "      <td>83088.0</td>\n",
       "    </tr>\n",
       "    <tr>\n",
       "      <th>18</th>\n",
       "      <td>5.9</td>\n",
       "      <td>81363.0</td>\n",
       "    </tr>\n",
       "    <tr>\n",
       "      <th>19</th>\n",
       "      <td>6.0</td>\n",
       "      <td>93940.0</td>\n",
       "    </tr>\n",
       "    <tr>\n",
       "      <th>20</th>\n",
       "      <td>6.8</td>\n",
       "      <td>91738.0</td>\n",
       "    </tr>\n",
       "    <tr>\n",
       "      <th>21</th>\n",
       "      <td>7.1</td>\n",
       "      <td>98273.0</td>\n",
       "    </tr>\n",
       "    <tr>\n",
       "      <th>22</th>\n",
       "      <td>7.9</td>\n",
       "      <td>101302.0</td>\n",
       "    </tr>\n",
       "    <tr>\n",
       "      <th>23</th>\n",
       "      <td>8.2</td>\n",
       "      <td>113812.0</td>\n",
       "    </tr>\n",
       "    <tr>\n",
       "      <th>24</th>\n",
       "      <td>8.7</td>\n",
       "      <td>109431.0</td>\n",
       "    </tr>\n",
       "    <tr>\n",
       "      <th>25</th>\n",
       "      <td>9.0</td>\n",
       "      <td>105582.0</td>\n",
       "    </tr>\n",
       "    <tr>\n",
       "      <th>26</th>\n",
       "      <td>9.5</td>\n",
       "      <td>116969.0</td>\n",
       "    </tr>\n",
       "    <tr>\n",
       "      <th>27</th>\n",
       "      <td>9.6</td>\n",
       "      <td>112635.0</td>\n",
       "    </tr>\n",
       "    <tr>\n",
       "      <th>28</th>\n",
       "      <td>10.3</td>\n",
       "      <td>122391.0</td>\n",
       "    </tr>\n",
       "    <tr>\n",
       "      <th>29</th>\n",
       "      <td>10.5</td>\n",
       "      <td>121872.0</td>\n",
       "    </tr>\n",
       "  </tbody>\n",
       "</table>\n",
       "</div>"
      ],
      "text/plain": [
       "    YearsExperience    Salary\n",
       "0               1.1   39343.0\n",
       "1               1.3   46205.0\n",
       "2               1.5   37731.0\n",
       "3               2.0   43525.0\n",
       "4               2.2   39891.0\n",
       "5               2.9   56642.0\n",
       "6               3.0   60150.0\n",
       "7               3.2   54445.0\n",
       "8               3.2   64445.0\n",
       "9               3.7   57189.0\n",
       "10              3.9   63218.0\n",
       "11              4.0   55794.0\n",
       "12              4.0   56957.0\n",
       "13              4.1   57081.0\n",
       "14              4.5   61111.0\n",
       "15              4.9   67938.0\n",
       "16              5.1   66029.0\n",
       "17              5.3   83088.0\n",
       "18              5.9   81363.0\n",
       "19              6.0   93940.0\n",
       "20              6.8   91738.0\n",
       "21              7.1   98273.0\n",
       "22              7.9  101302.0\n",
       "23              8.2  113812.0\n",
       "24              8.7  109431.0\n",
       "25              9.0  105582.0\n",
       "26              9.5  116969.0\n",
       "27              9.6  112635.0\n",
       "28             10.3  122391.0\n",
       "29             10.5  121872.0"
      ]
     },
     "execution_count": 78,
     "metadata": {},
     "output_type": "execute_result"
    }
   ],
   "source": [
    "sh=pd.read_csv(\"Salary_Data.csv\")\n",
    "sh"
   ]
  },
  {
   "cell_type": "code",
   "execution_count": 85,
   "id": "fb5978aa",
   "metadata": {
    "ExecuteTime": {
     "end_time": "2021-09-28T11:08:43.852692Z",
     "start_time": "2021-09-28T11:08:43.812689Z"
    }
   },
   "outputs": [
    {
     "data": {
      "text/plain": [
       "Intercept          25792.200199\n",
       "YearsExperience     9449.962321\n",
       "dtype: float64"
      ]
     },
     "execution_count": 85,
     "metadata": {},
     "output_type": "execute_result"
    }
   ],
   "source": [
    "import statsmodels.formula.api as smf\n",
    "modela=smf.ols(\"Salary~YearsExperience\",data=sh).fit()\n",
    "modela.params"
   ]
  },
  {
   "cell_type": "code",
   "execution_count": 88,
   "id": "b082200f",
   "metadata": {
    "ExecuteTime": {
     "end_time": "2021-09-28T11:09:05.126908Z",
     "start_time": "2021-09-28T11:09:05.086906Z"
    }
   },
   "outputs": [
    {
     "data": {
      "text/html": [
       "<table class=\"simpletable\">\n",
       "<caption>OLS Regression Results</caption>\n",
       "<tr>\n",
       "  <th>Dep. Variable:</th>         <td>Salary</td>      <th>  R-squared:         </th> <td>   0.957</td>\n",
       "</tr>\n",
       "<tr>\n",
       "  <th>Model:</th>                   <td>OLS</td>       <th>  Adj. R-squared:    </th> <td>   0.955</td>\n",
       "</tr>\n",
       "<tr>\n",
       "  <th>Method:</th>             <td>Least Squares</td>  <th>  F-statistic:       </th> <td>   622.5</td>\n",
       "</tr>\n",
       "<tr>\n",
       "  <th>Date:</th>             <td>Tue, 28 Sep 2021</td> <th>  Prob (F-statistic):</th> <td>1.14e-20</td>\n",
       "</tr>\n",
       "<tr>\n",
       "  <th>Time:</th>                 <td>16:39:05</td>     <th>  Log-Likelihood:    </th> <td> -301.44</td>\n",
       "</tr>\n",
       "<tr>\n",
       "  <th>No. Observations:</th>      <td>    30</td>      <th>  AIC:               </th> <td>   606.9</td>\n",
       "</tr>\n",
       "<tr>\n",
       "  <th>Df Residuals:</th>          <td>    28</td>      <th>  BIC:               </th> <td>   609.7</td>\n",
       "</tr>\n",
       "<tr>\n",
       "  <th>Df Model:</th>              <td>     1</td>      <th>                     </th>     <td> </td>   \n",
       "</tr>\n",
       "<tr>\n",
       "  <th>Covariance Type:</th>      <td>nonrobust</td>    <th>                     </th>     <td> </td>   \n",
       "</tr>\n",
       "</table>\n",
       "<table class=\"simpletable\">\n",
       "<tr>\n",
       "         <td></td>            <th>coef</th>     <th>std err</th>      <th>t</th>      <th>P>|t|</th>  <th>[0.025</th>    <th>0.975]</th>  \n",
       "</tr>\n",
       "<tr>\n",
       "  <th>Intercept</th>       <td> 2.579e+04</td> <td> 2273.053</td> <td>   11.347</td> <td> 0.000</td> <td> 2.11e+04</td> <td> 3.04e+04</td>\n",
       "</tr>\n",
       "<tr>\n",
       "  <th>YearsExperience</th> <td> 9449.9623</td> <td>  378.755</td> <td>   24.950</td> <td> 0.000</td> <td> 8674.119</td> <td> 1.02e+04</td>\n",
       "</tr>\n",
       "</table>\n",
       "<table class=\"simpletable\">\n",
       "<tr>\n",
       "  <th>Omnibus:</th>       <td> 2.140</td> <th>  Durbin-Watson:     </th> <td>   1.648</td>\n",
       "</tr>\n",
       "<tr>\n",
       "  <th>Prob(Omnibus):</th> <td> 0.343</td> <th>  Jarque-Bera (JB):  </th> <td>   1.569</td>\n",
       "</tr>\n",
       "<tr>\n",
       "  <th>Skew:</th>          <td> 0.363</td> <th>  Prob(JB):          </th> <td>   0.456</td>\n",
       "</tr>\n",
       "<tr>\n",
       "  <th>Kurtosis:</th>      <td> 2.147</td> <th>  Cond. No.          </th> <td>    13.2</td>\n",
       "</tr>\n",
       "</table><br/><br/>Notes:<br/>[1] Standard Errors assume that the covariance matrix of the errors is correctly specified."
      ],
      "text/plain": [
       "<class 'statsmodels.iolib.summary.Summary'>\n",
       "\"\"\"\n",
       "                            OLS Regression Results                            \n",
       "==============================================================================\n",
       "Dep. Variable:                 Salary   R-squared:                       0.957\n",
       "Model:                            OLS   Adj. R-squared:                  0.955\n",
       "Method:                 Least Squares   F-statistic:                     622.5\n",
       "Date:                Tue, 28 Sep 2021   Prob (F-statistic):           1.14e-20\n",
       "Time:                        16:39:05   Log-Likelihood:                -301.44\n",
       "No. Observations:                  30   AIC:                             606.9\n",
       "Df Residuals:                      28   BIC:                             609.7\n",
       "Df Model:                           1                                         \n",
       "Covariance Type:            nonrobust                                         \n",
       "===================================================================================\n",
       "                      coef    std err          t      P>|t|      [0.025      0.975]\n",
       "-----------------------------------------------------------------------------------\n",
       "Intercept        2.579e+04   2273.053     11.347      0.000    2.11e+04    3.04e+04\n",
       "YearsExperience  9449.9623    378.755     24.950      0.000    8674.119    1.02e+04\n",
       "==============================================================================\n",
       "Omnibus:                        2.140   Durbin-Watson:                   1.648\n",
       "Prob(Omnibus):                  0.343   Jarque-Bera (JB):                1.569\n",
       "Skew:                           0.363   Prob(JB):                        0.456\n",
       "Kurtosis:                       2.147   Cond. No.                         13.2\n",
       "==============================================================================\n",
       "\n",
       "Notes:\n",
       "[1] Standard Errors assume that the covariance matrix of the errors is correctly specified.\n",
       "\"\"\""
      ]
     },
     "execution_count": 88,
     "metadata": {},
     "output_type": "execute_result"
    }
   ],
   "source": [
    "modela.summary()"
   ]
  },
  {
   "cell_type": "code",
   "execution_count": 90,
   "id": "bcb3ca48",
   "metadata": {
    "ExecuteTime": {
     "end_time": "2021-09-28T11:09:54.683743Z",
     "start_time": "2021-09-28T11:09:54.663742Z"
    }
   },
   "outputs": [
    {
     "data": {
      "text/plain": [
       "0      36187.158752\n",
       "1      38077.151217\n",
       "2      39967.143681\n",
       "3      44692.124842\n",
       "4      46582.117306\n",
       "5      53197.090931\n",
       "6      54142.087163\n",
       "7      56032.079627\n",
       "8      56032.079627\n",
       "9      60757.060788\n",
       "10     62647.053252\n",
       "11     63592.049484\n",
       "12     63592.049484\n",
       "13     64537.045717\n",
       "14     68317.030645\n",
       "15     72097.015574\n",
       "16     73987.008038\n",
       "17     75877.000502\n",
       "18     81546.977895\n",
       "19     82491.974127\n",
       "20     90051.943985\n",
       "21     92886.932681\n",
       "22    100446.902538\n",
       "23    103281.891235\n",
       "24    108006.872395\n",
       "25    110841.861092\n",
       "26    115566.842252\n",
       "27    116511.838485\n",
       "28    123126.812110\n",
       "29    125016.804574\n",
       "dtype: float64"
      ]
     },
     "execution_count": 90,
     "metadata": {},
     "output_type": "execute_result"
    }
   ],
   "source": [
    "preda=modela.predict(sh.iloc[:,:])\n",
    "preda"
   ]
  },
  {
   "cell_type": "code",
   "execution_count": 93,
   "id": "05371eb2",
   "metadata": {
    "ExecuteTime": {
     "end_time": "2021-09-28T11:11:48.660262Z",
     "start_time": "2021-09-28T11:11:48.643261Z"
    }
   },
   "outputs": [
    {
     "data": {
      "text/plain": [
       "5592.043608760662"
      ]
     },
     "execution_count": 93,
     "metadata": {},
     "output_type": "execute_result"
    }
   ],
   "source": [
    "rmse_lin = np.sqrt(np.mean((np.array(sh['Salary'])-np.array(preda))**2))\n",
    "rmse_lin "
   ]
  },
  {
   "cell_type": "code",
   "execution_count": 111,
   "id": "c23fb94b",
   "metadata": {
    "ExecuteTime": {
     "end_time": "2021-09-28T11:21:57.194256Z",
     "start_time": "2021-09-28T11:21:57.177255Z"
    }
   },
   "outputs": [
    {
     "data": {
      "text/plain": [
       "array([ 0.54520896,  1.40418217, -0.38632031, -0.20163464, -1.15596979,\n",
       "        0.59514885,  1.03793812, -0.27418681,  1.45343166, -0.61642477,\n",
       "        0.09863781, -1.34720543, -1.1462834 , -1.28812023, -1.24492716,\n",
       "       -0.71851921, -1.37484017,  1.24578559, -0.03178436,  1.9777821 ,\n",
       "        0.29128615,  0.93050694,  0.14772822,  1.81920104,  0.24603492,\n",
       "       -0.90870332,  0.24223936, -0.66976978, -0.12712026, -0.54330225])"
      ]
     },
     "execution_count": 111,
     "metadata": {},
     "output_type": "execute_result"
    }
   ],
   "source": [
    "modela.resid \n",
    "modela.resid_pearson \n"
   ]
  },
  {
   "cell_type": "code",
   "execution_count": 96,
   "id": "46f9bf04",
   "metadata": {
    "ExecuteTime": {
     "end_time": "2021-09-28T11:12:39.622177Z",
     "start_time": "2021-09-28T11:12:39.599176Z"
    }
   },
   "outputs": [
    {
     "data": {
      "text/plain": [
       "Intercept                  14927.97177\n",
       "np.log(YearsExperience)    40581.98796\n",
       "dtype: float64"
      ]
     },
     "execution_count": 96,
     "metadata": {},
     "output_type": "execute_result"
    }
   ],
   "source": [
    "modelb = smf.ols('Salary~np.log(YearsExperience)',data=sh).fit()\n",
    "modelb.params"
   ]
  },
  {
   "cell_type": "code",
   "execution_count": 102,
   "id": "5442a0a0",
   "metadata": {
    "ExecuteTime": {
     "end_time": "2021-09-28T11:14:37.496919Z",
     "start_time": "2021-09-28T11:14:37.455917Z"
    }
   },
   "outputs": [
    {
     "data": {
      "text/html": [
       "<table class=\"simpletable\">\n",
       "<caption>OLS Regression Results</caption>\n",
       "<tr>\n",
       "  <th>Dep. Variable:</th>         <td>Salary</td>      <th>  R-squared:         </th> <td>   0.854</td>\n",
       "</tr>\n",
       "<tr>\n",
       "  <th>Model:</th>                   <td>OLS</td>       <th>  Adj. R-squared:    </th> <td>   0.849</td>\n",
       "</tr>\n",
       "<tr>\n",
       "  <th>Method:</th>             <td>Least Squares</td>  <th>  F-statistic:       </th> <td>   163.6</td>\n",
       "</tr>\n",
       "<tr>\n",
       "  <th>Date:</th>             <td>Tue, 28 Sep 2021</td> <th>  Prob (F-statistic):</th> <td>3.25e-13</td>\n",
       "</tr>\n",
       "<tr>\n",
       "  <th>Time:</th>                 <td>16:44:37</td>     <th>  Log-Likelihood:    </th> <td> -319.77</td>\n",
       "</tr>\n",
       "<tr>\n",
       "  <th>No. Observations:</th>      <td>    30</td>      <th>  AIC:               </th> <td>   643.5</td>\n",
       "</tr>\n",
       "<tr>\n",
       "  <th>Df Residuals:</th>          <td>    28</td>      <th>  BIC:               </th> <td>   646.3</td>\n",
       "</tr>\n",
       "<tr>\n",
       "  <th>Df Model:</th>              <td>     1</td>      <th>                     </th>     <td> </td>   \n",
       "</tr>\n",
       "<tr>\n",
       "  <th>Covariance Type:</th>      <td>nonrobust</td>    <th>                     </th>     <td> </td>   \n",
       "</tr>\n",
       "</table>\n",
       "<table class=\"simpletable\">\n",
       "<tr>\n",
       "             <td></td>                <th>coef</th>     <th>std err</th>      <th>t</th>      <th>P>|t|</th>  <th>[0.025</th>    <th>0.975]</th>  \n",
       "</tr>\n",
       "<tr>\n",
       "  <th>Intercept</th>               <td> 1.493e+04</td> <td> 5156.226</td> <td>    2.895</td> <td> 0.007</td> <td> 4365.921</td> <td> 2.55e+04</td>\n",
       "</tr>\n",
       "<tr>\n",
       "  <th>np.log(YearsExperience)</th> <td> 4.058e+04</td> <td> 3172.453</td> <td>   12.792</td> <td> 0.000</td> <td> 3.41e+04</td> <td> 4.71e+04</td>\n",
       "</tr>\n",
       "</table>\n",
       "<table class=\"simpletable\">\n",
       "<tr>\n",
       "  <th>Omnibus:</th>       <td> 1.094</td> <th>  Durbin-Watson:     </th> <td>   0.512</td>\n",
       "</tr>\n",
       "<tr>\n",
       "  <th>Prob(Omnibus):</th> <td> 0.579</td> <th>  Jarque-Bera (JB):  </th> <td>   0.908</td>\n",
       "</tr>\n",
       "<tr>\n",
       "  <th>Skew:</th>          <td> 0.156</td> <th>  Prob(JB):          </th> <td>   0.635</td>\n",
       "</tr>\n",
       "<tr>\n",
       "  <th>Kurtosis:</th>      <td> 2.207</td> <th>  Cond. No.          </th> <td>    5.76</td>\n",
       "</tr>\n",
       "</table><br/><br/>Notes:<br/>[1] Standard Errors assume that the covariance matrix of the errors is correctly specified."
      ],
      "text/plain": [
       "<class 'statsmodels.iolib.summary.Summary'>\n",
       "\"\"\"\n",
       "                            OLS Regression Results                            \n",
       "==============================================================================\n",
       "Dep. Variable:                 Salary   R-squared:                       0.854\n",
       "Model:                            OLS   Adj. R-squared:                  0.849\n",
       "Method:                 Least Squares   F-statistic:                     163.6\n",
       "Date:                Tue, 28 Sep 2021   Prob (F-statistic):           3.25e-13\n",
       "Time:                        16:44:37   Log-Likelihood:                -319.77\n",
       "No. Observations:                  30   AIC:                             643.5\n",
       "Df Residuals:                      28   BIC:                             646.3\n",
       "Df Model:                           1                                         \n",
       "Covariance Type:            nonrobust                                         \n",
       "===========================================================================================\n",
       "                              coef    std err          t      P>|t|      [0.025      0.975]\n",
       "-------------------------------------------------------------------------------------------\n",
       "Intercept                1.493e+04   5156.226      2.895      0.007    4365.921    2.55e+04\n",
       "np.log(YearsExperience)  4.058e+04   3172.453     12.792      0.000    3.41e+04    4.71e+04\n",
       "==============================================================================\n",
       "Omnibus:                        1.094   Durbin-Watson:                   0.512\n",
       "Prob(Omnibus):                  0.579   Jarque-Bera (JB):                0.908\n",
       "Skew:                           0.156   Prob(JB):                        0.635\n",
       "Kurtosis:                       2.207   Cond. No.                         5.76\n",
       "==============================================================================\n",
       "\n",
       "Notes:\n",
       "[1] Standard Errors assume that the covariance matrix of the errors is correctly specified.\n",
       "\"\"\""
      ]
     },
     "execution_count": 102,
     "metadata": {},
     "output_type": "execute_result"
    }
   ],
   "source": [
    "modelb.summary()"
   ]
  },
  {
   "cell_type": "code",
   "execution_count": 100,
   "id": "eb468271",
   "metadata": {
    "ExecuteTime": {
     "end_time": "2021-09-28T11:13:48.750131Z",
     "start_time": "2021-09-28T11:13:48.728130Z"
    }
   },
   "outputs": [
    {
     "data": {
      "text/plain": [
       "Intercept                  -16055.769117\n",
       "np.sqrt(YearsExperience)    41500.680583\n",
       "dtype: float64"
      ]
     },
     "execution_count": 100,
     "metadata": {},
     "output_type": "execute_result"
    }
   ],
   "source": [
    "modelc = smf.ols('Salary~np.sqrt(YearsExperience)',data=sh).fit()\n",
    "modelc.params"
   ]
  },
  {
   "cell_type": "code",
   "execution_count": 103,
   "id": "c2616361",
   "metadata": {
    "ExecuteTime": {
     "end_time": "2021-09-28T11:14:51.392714Z",
     "start_time": "2021-09-28T11:14:51.359712Z"
    }
   },
   "outputs": [
    {
     "data": {
      "text/html": [
       "<table class=\"simpletable\">\n",
       "<caption>OLS Regression Results</caption>\n",
       "<tr>\n",
       "  <th>Dep. Variable:</th>         <td>Salary</td>      <th>  R-squared:         </th> <td>   0.931</td>\n",
       "</tr>\n",
       "<tr>\n",
       "  <th>Model:</th>                   <td>OLS</td>       <th>  Adj. R-squared:    </th> <td>   0.929</td>\n",
       "</tr>\n",
       "<tr>\n",
       "  <th>Method:</th>             <td>Least Squares</td>  <th>  F-statistic:       </th> <td>   377.8</td>\n",
       "</tr>\n",
       "<tr>\n",
       "  <th>Date:</th>             <td>Tue, 28 Sep 2021</td> <th>  Prob (F-statistic):</th> <td>8.57e-18</td>\n",
       "</tr>\n",
       "<tr>\n",
       "  <th>Time:</th>                 <td>16:44:51</td>     <th>  Log-Likelihood:    </th> <td> -308.52</td>\n",
       "</tr>\n",
       "<tr>\n",
       "  <th>No. Observations:</th>      <td>    30</td>      <th>  AIC:               </th> <td>   621.0</td>\n",
       "</tr>\n",
       "<tr>\n",
       "  <th>Df Residuals:</th>          <td>    28</td>      <th>  BIC:               </th> <td>   623.8</td>\n",
       "</tr>\n",
       "<tr>\n",
       "  <th>Df Model:</th>              <td>     1</td>      <th>                     </th>     <td> </td>   \n",
       "</tr>\n",
       "<tr>\n",
       "  <th>Covariance Type:</th>      <td>nonrobust</td>    <th>                     </th>     <td> </td>   \n",
       "</tr>\n",
       "</table>\n",
       "<table class=\"simpletable\">\n",
       "<tr>\n",
       "              <td></td>                <th>coef</th>     <th>std err</th>      <th>t</th>      <th>P>|t|</th>  <th>[0.025</th>    <th>0.975]</th>  \n",
       "</tr>\n",
       "<tr>\n",
       "  <th>Intercept</th>                <td>-1.606e+04</td> <td> 4921.599</td> <td>   -3.262</td> <td> 0.003</td> <td>-2.61e+04</td> <td>-5974.331</td>\n",
       "</tr>\n",
       "<tr>\n",
       "  <th>np.sqrt(YearsExperience)</th> <td>  4.15e+04</td> <td> 2135.122</td> <td>   19.437</td> <td> 0.000</td> <td> 3.71e+04</td> <td> 4.59e+04</td>\n",
       "</tr>\n",
       "</table>\n",
       "<table class=\"simpletable\">\n",
       "<tr>\n",
       "  <th>Omnibus:</th>       <td> 0.588</td> <th>  Durbin-Watson:     </th> <td>   1.031</td>\n",
       "</tr>\n",
       "<tr>\n",
       "  <th>Prob(Omnibus):</th> <td> 0.745</td> <th>  Jarque-Bera (JB):  </th> <td>   0.638</td>\n",
       "</tr>\n",
       "<tr>\n",
       "  <th>Skew:</th>          <td> 0.011</td> <th>  Prob(JB):          </th> <td>   0.727</td>\n",
       "</tr>\n",
       "<tr>\n",
       "  <th>Kurtosis:</th>      <td> 2.286</td> <th>  Cond. No.          </th> <td>    9.97</td>\n",
       "</tr>\n",
       "</table><br/><br/>Notes:<br/>[1] Standard Errors assume that the covariance matrix of the errors is correctly specified."
      ],
      "text/plain": [
       "<class 'statsmodels.iolib.summary.Summary'>\n",
       "\"\"\"\n",
       "                            OLS Regression Results                            \n",
       "==============================================================================\n",
       "Dep. Variable:                 Salary   R-squared:                       0.931\n",
       "Model:                            OLS   Adj. R-squared:                  0.929\n",
       "Method:                 Least Squares   F-statistic:                     377.8\n",
       "Date:                Tue, 28 Sep 2021   Prob (F-statistic):           8.57e-18\n",
       "Time:                        16:44:51   Log-Likelihood:                -308.52\n",
       "No. Observations:                  30   AIC:                             621.0\n",
       "Df Residuals:                      28   BIC:                             623.8\n",
       "Df Model:                           1                                         \n",
       "Covariance Type:            nonrobust                                         \n",
       "============================================================================================\n",
       "                               coef    std err          t      P>|t|      [0.025      0.975]\n",
       "--------------------------------------------------------------------------------------------\n",
       "Intercept                -1.606e+04   4921.599     -3.262      0.003   -2.61e+04   -5974.331\n",
       "np.sqrt(YearsExperience)   4.15e+04   2135.122     19.437      0.000    3.71e+04    4.59e+04\n",
       "==============================================================================\n",
       "Omnibus:                        0.588   Durbin-Watson:                   1.031\n",
       "Prob(Omnibus):                  0.745   Jarque-Bera (JB):                0.638\n",
       "Skew:                           0.011   Prob(JB):                        0.727\n",
       "Kurtosis:                       2.286   Cond. No.                         9.97\n",
       "==============================================================================\n",
       "\n",
       "Notes:\n",
       "[1] Standard Errors assume that the covariance matrix of the errors is correctly specified.\n",
       "\"\"\""
      ]
     },
     "execution_count": 103,
     "metadata": {},
     "output_type": "execute_result"
    }
   ],
   "source": [
    "modelc.summary()"
   ]
  },
  {
   "cell_type": "code",
   "execution_count": 104,
   "id": "5ff47129",
   "metadata": {
    "ExecuteTime": {
     "end_time": "2021-09-28T11:15:56.159418Z",
     "start_time": "2021-09-28T11:15:56.146417Z"
    }
   },
   "outputs": [
    {
     "data": {
      "text/plain": [
       "0      18795.848339\n",
       "1      25575.235192\n",
       "2      31382.551905\n",
       "3      43057.262306\n",
       "4      46925.138875\n",
       "5      58136.050079\n",
       "6      59511.842441\n",
       "7      62130.943929\n",
       "8      62130.943929\n",
       "9      68022.718504\n",
       "10     70159.105863\n",
       "11     71186.552842\n",
       "12     71186.552842\n",
       "13     72188.628149\n",
       "14     75966.422577\n",
       "15     79422.295729\n",
       "16     81045.791737\n",
       "17     82606.829882\n",
       "18     86959.066704\n",
       "19     87641.132977\n",
       "20     92720.502137\n",
       "21     94472.514696\n",
       "22     98805.371390\n",
       "23    100317.918684\n",
       "24    102719.920751\n",
       "25    104095.713112\n",
       "26    106289.868435\n",
       "27    106714.814600\n",
       "28    109571.007247\n",
       "29    110351.454145\n",
       "dtype: float64"
      ]
     },
     "execution_count": 104,
     "metadata": {},
     "output_type": "execute_result"
    }
   ],
   "source": [
    "predb=modelb.predict(sh.iloc[:,:])\n",
    "predb"
   ]
  },
  {
   "cell_type": "code",
   "execution_count": 107,
   "id": "8f4ca2cb",
   "metadata": {
    "ExecuteTime": {
     "end_time": "2021-09-28T11:16:32.753511Z",
     "start_time": "2021-09-28T11:16:32.726510Z"
    }
   },
   "outputs": [
    {
     "data": {
      "text/plain": [
       "0      27470.511884\n",
       "1      31262.287009\n",
       "2      34771.976586\n",
       "3      42635.056211\n",
       "4      45499.687794\n",
       "5      54617.343293\n",
       "6      55825.518202\n",
       "7      58182.905200\n",
       "8      58182.905200\n",
       "9      63772.383867\n",
       "10     65901.508208\n",
       "11     66945.592049\n",
       "12     66945.592049\n",
       "13     67976.704394\n",
       "14     71980.468875\n",
       "15     75809.903446\n",
       "16     77665.963118\n",
       "17     79485.972499\n",
       "18     84749.033766\n",
       "19     85599.722290\n",
       "20     92164.765553\n",
       "21     94526.218887\n",
       "22    100589.939171\n",
       "23    102784.094601\n",
       "24    106353.652306\n",
       "25    108446.272632\n",
       "26    111857.919142\n",
       "27    112529.386687\n",
       "28    117134.909368\n",
       "29    118421.805716\n",
       "dtype: float64"
      ]
     },
     "execution_count": 107,
     "metadata": {},
     "output_type": "execute_result"
    }
   ],
   "source": [
    "predc=modelc.predict(sh.iloc[:,:])\n",
    "predc"
   ]
  },
  {
   "cell_type": "code",
   "execution_count": 105,
   "id": "7b5bcd68",
   "metadata": {
    "ExecuteTime": {
     "end_time": "2021-09-28T11:16:21.887890Z",
     "start_time": "2021-09-28T11:16:21.870889Z"
    }
   },
   "outputs": [
    {
     "data": {
      "text/plain": [
       "10302.893706228304"
      ]
     },
     "execution_count": 105,
     "metadata": {},
     "output_type": "execute_result"
    }
   ],
   "source": [
    "rmse_lin = np.sqrt(np.mean((np.array(sh['Salary'])-np.array(predb))**2))\n",
    "rmse_lin "
   ]
  },
  {
   "cell_type": "code",
   "execution_count": 108,
   "id": "777ab844",
   "metadata": {
    "ExecuteTime": {
     "end_time": "2021-09-28T11:16:38.619847Z",
     "start_time": "2021-09-28T11:16:38.602846Z"
    }
   },
   "outputs": [
    {
     "data": {
      "text/plain": [
       "7080.095734983039"
      ]
     },
     "execution_count": 108,
     "metadata": {},
     "output_type": "execute_result"
    }
   ],
   "source": [
    "rmse_lin = np.sqrt(np.mean((np.array(sh['Salary'])-np.array(predc))**2))\n",
    "rmse_lin "
   ]
  },
  {
   "cell_type": "code",
   "execution_count": null,
   "id": "f38e92cf",
   "metadata": {},
   "outputs": [],
   "source": [
    "#adjusted r square value is higher and rmse value is lower for  model a so model a is the best model"
   ]
  }
 ],
 "metadata": {
  "kernelspec": {
   "display_name": "Python 3",
   "language": "python",
   "name": "python3"
  },
  "language_info": {
   "codemirror_mode": {
    "name": "ipython",
    "version": 3
   },
   "file_extension": ".py",
   "mimetype": "text/x-python",
   "name": "python",
   "nbconvert_exporter": "python",
   "pygments_lexer": "ipython3",
   "version": "3.8.8"
  },
  "varInspector": {
   "cols": {
    "lenName": 16,
    "lenType": 16,
    "lenVar": 40
   },
   "kernels_config": {
    "python": {
     "delete_cmd_postfix": "",
     "delete_cmd_prefix": "del ",
     "library": "var_list.py",
     "varRefreshCmd": "print(var_dic_list())"
    },
    "r": {
     "delete_cmd_postfix": ") ",
     "delete_cmd_prefix": "rm(",
     "library": "var_list.r",
     "varRefreshCmd": "cat(var_dic_list()) "
    }
   },
   "types_to_exclude": [
    "module",
    "function",
    "builtin_function_or_method",
    "instance",
    "_Feature"
   ],
   "window_display": false
  }
 },
 "nbformat": 4,
 "nbformat_minor": 5
}
